{
  "nbformat": 4,
  "nbformat_minor": 0,
  "metadata": {
    "colab": {
      "name": "Indian Premier League Prediction.ipynb",
      "provenance": [],
      "collapsed_sections": []
    },
    "kernelspec": {
      "name": "python3",
      "display_name": "Python 3"
    },
    "language_info": {
      "name": "python"
    }
  },
  "cells": [
    {
      "cell_type": "markdown",
      "source": [
        "**Basic Library's**"
      ],
      "metadata": {
        "id": "Bf2oqWHLuuCm"
      }
    },
    {
      "cell_type": "code",
      "execution_count": 1,
      "metadata": {
        "id": "HHINT7S9Y4hy"
      },
      "outputs": [],
      "source": [
        "import pandas as pd\n",
        "import numpy as np\n",
        "import seaborn as sns\n",
        "import matplotlib.pyplot as plt\n",
        "import warnings\n",
        "warnings.filterwarnings(\"ignore\")"
      ]
    },
    {
      "cell_type": "markdown",
      "source": [
        "**Dataset**"
      ],
      "metadata": {
        "id": "WHPK3Xv_u0Rh"
      }
    },
    {
      "cell_type": "code",
      "source": [
        "from google.colab import drive\n",
        "drive.mount('/content/drive')"
      ],
      "metadata": {
        "id": "DguxWx5VFcfq",
        "colab": {
          "base_uri": "https://localhost:8080/"
        },
        "outputId": "e163d3ee-a80d-40b9-dd32-5a9efb890560"
      },
      "execution_count": 2,
      "outputs": [
        {
          "output_type": "stream",
          "name": "stdout",
          "text": [
            "Drive already mounted at /content/drive; to attempt to forcibly remount, call drive.mount(\"/content/drive\", force_remount=True).\n"
          ]
        }
      ]
    },
    {
      "cell_type": "code",
      "source": [
        "matches=pd.read_csv(\"/content/drive/MyDrive/Ipl dataset/IPL Matches 2008-2020.csv\")"
      ],
      "metadata": {
        "id": "b2t7dMbSZcoI"
      },
      "execution_count": 47,
      "outputs": []
    },
    {
      "cell_type": "markdown",
      "source": [
        "**EDA – Exploratory Data Analysis for IPL winner Predictor**"
      ],
      "metadata": {
        "id": "7CkH-nlgu3iq"
      }
    },
    {
      "cell_type": "code",
      "source": [
        "matches.shape"
      ],
      "metadata": {
        "colab": {
          "base_uri": "https://localhost:8080/"
        },
        "id": "OyOmS9yFbIaR",
        "outputId": "24c0feb0-0760-4a7f-84ef-44ec5da2b506"
      },
      "execution_count": 4,
      "outputs": [
        {
          "output_type": "execute_result",
          "data": {
            "text/plain": [
              "(816, 17)"
            ]
          },
          "metadata": {},
          "execution_count": 4
        }
      ]
    },
    {
      "cell_type": "code",
      "source": [
        "Team_Name=['Sunrisers Hyderabad', 'Mumbai Indians', 'Gujarat Lions',\n",
        "    'Rising Pune Supergiant', 'Royal Challengers Bangalore',\n",
        "    'Kolkata Knight Riders', 'Delhi Daredevils', 'Kings XI Punjab',\n",
        "    'Chennai Super Kings', 'Rajasthan Royals', 'Deccan Chargers',\n",
        "    'Kochi Tuskers Kerala', 'Pune Warriors', 'Rising Pune Supergiants', 'Delhi Capitals']\n",
        "\n",
        "team_shrt= ['SRH','MI','GL','RPS','RCB','KKR','DC','KXIP','CSK','RR','SRH','KTK','PW','RPS','DC']"
      ],
      "metadata": {
        "id": "T1KZhJBIcsFL"
      },
      "execution_count": 48,
      "outputs": []
    },
    {
      "cell_type": "code",
      "source": [
        "matches.replace(Team_Name,team_shrt,inplace = True)"
      ],
      "metadata": {
        "id": "zZb6Wze8c2Pi"
      },
      "execution_count": 49,
      "outputs": []
    },
    {
      "cell_type": "code",
      "source": [
        "matches.head(10)"
      ],
      "metadata": {
        "colab": {
          "base_uri": "https://localhost:8080/",
          "height": 878
        },
        "id": "ZbF5syUMc971",
        "outputId": "3ad1256b-9e6b-41a8-bd04-11b59b4a92aa"
      },
      "execution_count": 19,
      "outputs": [
        {
          "output_type": "execute_result",
          "data": {
            "text/html": [
              "\n",
              "  <div id=\"df-412baca3-c191-4a15-a5f4-01af56feeea7\">\n",
              "    <div class=\"colab-df-container\">\n",
              "      <div>\n",
              "<style scoped>\n",
              "    .dataframe tbody tr th:only-of-type {\n",
              "        vertical-align: middle;\n",
              "    }\n",
              "\n",
              "    .dataframe tbody tr th {\n",
              "        vertical-align: top;\n",
              "    }\n",
              "\n",
              "    .dataframe thead th {\n",
              "        text-align: right;\n",
              "    }\n",
              "</style>\n",
              "<table border=\"1\" class=\"dataframe\">\n",
              "  <thead>\n",
              "    <tr style=\"text-align: right;\">\n",
              "      <th></th>\n",
              "      <th>id</th>\n",
              "      <th>city</th>\n",
              "      <th>date</th>\n",
              "      <th>player_of_match</th>\n",
              "      <th>venue</th>\n",
              "      <th>neutral_venue</th>\n",
              "      <th>team1</th>\n",
              "      <th>team2</th>\n",
              "      <th>toss_winner</th>\n",
              "      <th>toss_decision</th>\n",
              "      <th>winner</th>\n",
              "      <th>result</th>\n",
              "      <th>result_margin</th>\n",
              "      <th>eliminator</th>\n",
              "      <th>method</th>\n",
              "      <th>umpire1</th>\n",
              "      <th>umpire2</th>\n",
              "    </tr>\n",
              "  </thead>\n",
              "  <tbody>\n",
              "    <tr>\n",
              "      <th>0</th>\n",
              "      <td>335982</td>\n",
              "      <td>Bangalore</td>\n",
              "      <td>2008-04-18</td>\n",
              "      <td>BB McCullum</td>\n",
              "      <td>M Chinnaswamy Stadium</td>\n",
              "      <td>0</td>\n",
              "      <td>Royal Challengers Bangalore</td>\n",
              "      <td>Kolkata Knight Riders</td>\n",
              "      <td>Royal Challengers Bangalore</td>\n",
              "      <td>field</td>\n",
              "      <td>Kolkata Knight Riders</td>\n",
              "      <td>runs</td>\n",
              "      <td>140.0</td>\n",
              "      <td>N</td>\n",
              "      <td>NaN</td>\n",
              "      <td>Asad Rauf</td>\n",
              "      <td>RE Koertzen</td>\n",
              "    </tr>\n",
              "    <tr>\n",
              "      <th>1</th>\n",
              "      <td>335983</td>\n",
              "      <td>Chandigarh</td>\n",
              "      <td>2008-04-19</td>\n",
              "      <td>MEK Hussey</td>\n",
              "      <td>Punjab Cricket Association Stadium, Mohali</td>\n",
              "      <td>0</td>\n",
              "      <td>Kings XI Punjab</td>\n",
              "      <td>Chennai Super Kings</td>\n",
              "      <td>Chennai Super Kings</td>\n",
              "      <td>bat</td>\n",
              "      <td>Chennai Super Kings</td>\n",
              "      <td>runs</td>\n",
              "      <td>33.0</td>\n",
              "      <td>N</td>\n",
              "      <td>NaN</td>\n",
              "      <td>MR Benson</td>\n",
              "      <td>SL Shastri</td>\n",
              "    </tr>\n",
              "    <tr>\n",
              "      <th>2</th>\n",
              "      <td>335984</td>\n",
              "      <td>Delhi</td>\n",
              "      <td>2008-04-19</td>\n",
              "      <td>MF Maharoof</td>\n",
              "      <td>Feroz Shah Kotla</td>\n",
              "      <td>0</td>\n",
              "      <td>Delhi Daredevils</td>\n",
              "      <td>Rajasthan Royals</td>\n",
              "      <td>Rajasthan Royals</td>\n",
              "      <td>bat</td>\n",
              "      <td>Delhi Daredevils</td>\n",
              "      <td>wickets</td>\n",
              "      <td>9.0</td>\n",
              "      <td>N</td>\n",
              "      <td>NaN</td>\n",
              "      <td>Aleem Dar</td>\n",
              "      <td>GA Pratapkumar</td>\n",
              "    </tr>\n",
              "    <tr>\n",
              "      <th>3</th>\n",
              "      <td>335985</td>\n",
              "      <td>Mumbai</td>\n",
              "      <td>2008-04-20</td>\n",
              "      <td>MV Boucher</td>\n",
              "      <td>Wankhede Stadium</td>\n",
              "      <td>0</td>\n",
              "      <td>Mumbai Indians</td>\n",
              "      <td>Royal Challengers Bangalore</td>\n",
              "      <td>Mumbai Indians</td>\n",
              "      <td>bat</td>\n",
              "      <td>Royal Challengers Bangalore</td>\n",
              "      <td>wickets</td>\n",
              "      <td>5.0</td>\n",
              "      <td>N</td>\n",
              "      <td>NaN</td>\n",
              "      <td>SJ Davis</td>\n",
              "      <td>DJ Harper</td>\n",
              "    </tr>\n",
              "    <tr>\n",
              "      <th>4</th>\n",
              "      <td>335986</td>\n",
              "      <td>Kolkata</td>\n",
              "      <td>2008-04-20</td>\n",
              "      <td>DJ Hussey</td>\n",
              "      <td>Eden Gardens</td>\n",
              "      <td>0</td>\n",
              "      <td>Kolkata Knight Riders</td>\n",
              "      <td>Deccan Chargers</td>\n",
              "      <td>Deccan Chargers</td>\n",
              "      <td>bat</td>\n",
              "      <td>Kolkata Knight Riders</td>\n",
              "      <td>wickets</td>\n",
              "      <td>5.0</td>\n",
              "      <td>N</td>\n",
              "      <td>NaN</td>\n",
              "      <td>BF Bowden</td>\n",
              "      <td>K Hariharan</td>\n",
              "    </tr>\n",
              "    <tr>\n",
              "      <th>5</th>\n",
              "      <td>335987</td>\n",
              "      <td>Jaipur</td>\n",
              "      <td>2008-04-21</td>\n",
              "      <td>SR Watson</td>\n",
              "      <td>Sawai Mansingh Stadium</td>\n",
              "      <td>0</td>\n",
              "      <td>Rajasthan Royals</td>\n",
              "      <td>Kings XI Punjab</td>\n",
              "      <td>Kings XI Punjab</td>\n",
              "      <td>bat</td>\n",
              "      <td>Rajasthan Royals</td>\n",
              "      <td>wickets</td>\n",
              "      <td>6.0</td>\n",
              "      <td>N</td>\n",
              "      <td>NaN</td>\n",
              "      <td>Aleem Dar</td>\n",
              "      <td>RB Tiffin</td>\n",
              "    </tr>\n",
              "    <tr>\n",
              "      <th>6</th>\n",
              "      <td>335988</td>\n",
              "      <td>Hyderabad</td>\n",
              "      <td>2008-04-22</td>\n",
              "      <td>V Sehwag</td>\n",
              "      <td>Rajiv Gandhi International Stadium, Uppal</td>\n",
              "      <td>0</td>\n",
              "      <td>Deccan Chargers</td>\n",
              "      <td>Delhi Daredevils</td>\n",
              "      <td>Deccan Chargers</td>\n",
              "      <td>bat</td>\n",
              "      <td>Delhi Daredevils</td>\n",
              "      <td>wickets</td>\n",
              "      <td>9.0</td>\n",
              "      <td>N</td>\n",
              "      <td>NaN</td>\n",
              "      <td>IL Howell</td>\n",
              "      <td>AM Saheba</td>\n",
              "    </tr>\n",
              "    <tr>\n",
              "      <th>7</th>\n",
              "      <td>335989</td>\n",
              "      <td>Chennai</td>\n",
              "      <td>2008-04-23</td>\n",
              "      <td>ML Hayden</td>\n",
              "      <td>MA Chidambaram Stadium, Chepauk</td>\n",
              "      <td>0</td>\n",
              "      <td>Chennai Super Kings</td>\n",
              "      <td>Mumbai Indians</td>\n",
              "      <td>Mumbai Indians</td>\n",
              "      <td>field</td>\n",
              "      <td>Chennai Super Kings</td>\n",
              "      <td>runs</td>\n",
              "      <td>6.0</td>\n",
              "      <td>N</td>\n",
              "      <td>NaN</td>\n",
              "      <td>DJ Harper</td>\n",
              "      <td>GA Pratapkumar</td>\n",
              "    </tr>\n",
              "    <tr>\n",
              "      <th>8</th>\n",
              "      <td>335990</td>\n",
              "      <td>Hyderabad</td>\n",
              "      <td>2008-04-24</td>\n",
              "      <td>YK Pathan</td>\n",
              "      <td>Rajiv Gandhi International Stadium, Uppal</td>\n",
              "      <td>0</td>\n",
              "      <td>Deccan Chargers</td>\n",
              "      <td>Rajasthan Royals</td>\n",
              "      <td>Rajasthan Royals</td>\n",
              "      <td>field</td>\n",
              "      <td>Rajasthan Royals</td>\n",
              "      <td>wickets</td>\n",
              "      <td>3.0</td>\n",
              "      <td>N</td>\n",
              "      <td>NaN</td>\n",
              "      <td>Asad Rauf</td>\n",
              "      <td>MR Benson</td>\n",
              "    </tr>\n",
              "    <tr>\n",
              "      <th>9</th>\n",
              "      <td>335991</td>\n",
              "      <td>Chandigarh</td>\n",
              "      <td>2008-04-25</td>\n",
              "      <td>KC Sangakkara</td>\n",
              "      <td>Punjab Cricket Association Stadium, Mohali</td>\n",
              "      <td>0</td>\n",
              "      <td>Kings XI Punjab</td>\n",
              "      <td>Mumbai Indians</td>\n",
              "      <td>Mumbai Indians</td>\n",
              "      <td>field</td>\n",
              "      <td>Kings XI Punjab</td>\n",
              "      <td>runs</td>\n",
              "      <td>66.0</td>\n",
              "      <td>N</td>\n",
              "      <td>NaN</td>\n",
              "      <td>Aleem Dar</td>\n",
              "      <td>AM Saheba</td>\n",
              "    </tr>\n",
              "  </tbody>\n",
              "</table>\n",
              "</div>\n",
              "      <button class=\"colab-df-convert\" onclick=\"convertToInteractive('df-412baca3-c191-4a15-a5f4-01af56feeea7')\"\n",
              "              title=\"Convert this dataframe to an interactive table.\"\n",
              "              style=\"display:none;\">\n",
              "        \n",
              "  <svg xmlns=\"http://www.w3.org/2000/svg\" height=\"24px\"viewBox=\"0 0 24 24\"\n",
              "       width=\"24px\">\n",
              "    <path d=\"M0 0h24v24H0V0z\" fill=\"none\"/>\n",
              "    <path d=\"M18.56 5.44l.94 2.06.94-2.06 2.06-.94-2.06-.94-.94-2.06-.94 2.06-2.06.94zm-11 1L8.5 8.5l.94-2.06 2.06-.94-2.06-.94L8.5 2.5l-.94 2.06-2.06.94zm10 10l.94 2.06.94-2.06 2.06-.94-2.06-.94-.94-2.06-.94 2.06-2.06.94z\"/><path d=\"M17.41 7.96l-1.37-1.37c-.4-.4-.92-.59-1.43-.59-.52 0-1.04.2-1.43.59L10.3 9.45l-7.72 7.72c-.78.78-.78 2.05 0 2.83L4 21.41c.39.39.9.59 1.41.59.51 0 1.02-.2 1.41-.59l7.78-7.78 2.81-2.81c.8-.78.8-2.07 0-2.86zM5.41 20L4 18.59l7.72-7.72 1.47 1.35L5.41 20z\"/>\n",
              "  </svg>\n",
              "      </button>\n",
              "      \n",
              "  <style>\n",
              "    .colab-df-container {\n",
              "      display:flex;\n",
              "      flex-wrap:wrap;\n",
              "      gap: 12px;\n",
              "    }\n",
              "\n",
              "    .colab-df-convert {\n",
              "      background-color: #E8F0FE;\n",
              "      border: none;\n",
              "      border-radius: 50%;\n",
              "      cursor: pointer;\n",
              "      display: none;\n",
              "      fill: #1967D2;\n",
              "      height: 32px;\n",
              "      padding: 0 0 0 0;\n",
              "      width: 32px;\n",
              "    }\n",
              "\n",
              "    .colab-df-convert:hover {\n",
              "      background-color: #E2EBFA;\n",
              "      box-shadow: 0px 1px 2px rgba(60, 64, 67, 0.3), 0px 1px 3px 1px rgba(60, 64, 67, 0.15);\n",
              "      fill: #174EA6;\n",
              "    }\n",
              "\n",
              "    [theme=dark] .colab-df-convert {\n",
              "      background-color: #3B4455;\n",
              "      fill: #D2E3FC;\n",
              "    }\n",
              "\n",
              "    [theme=dark] .colab-df-convert:hover {\n",
              "      background-color: #434B5C;\n",
              "      box-shadow: 0px 1px 3px 1px rgba(0, 0, 0, 0.15);\n",
              "      filter: drop-shadow(0px 1px 2px rgba(0, 0, 0, 0.3));\n",
              "      fill: #FFFFFF;\n",
              "    }\n",
              "  </style>\n",
              "\n",
              "      <script>\n",
              "        const buttonEl =\n",
              "          document.querySelector('#df-412baca3-c191-4a15-a5f4-01af56feeea7 button.colab-df-convert');\n",
              "        buttonEl.style.display =\n",
              "          google.colab.kernel.accessAllowed ? 'block' : 'none';\n",
              "\n",
              "        async function convertToInteractive(key) {\n",
              "          const element = document.querySelector('#df-412baca3-c191-4a15-a5f4-01af56feeea7');\n",
              "          const dataTable =\n",
              "            await google.colab.kernel.invokeFunction('convertToInteractive',\n",
              "                                                     [key], {});\n",
              "          if (!dataTable) return;\n",
              "\n",
              "          const docLinkHtml = 'Like what you see? Visit the ' +\n",
              "            '<a target=\"_blank\" href=https://colab.research.google.com/notebooks/data_table.ipynb>data table notebook</a>'\n",
              "            + ' to learn more about interactive tables.';\n",
              "          element.innerHTML = '';\n",
              "          dataTable['output_type'] = 'display_data';\n",
              "          await google.colab.output.renderOutput(dataTable, element);\n",
              "          const docLink = document.createElement('div');\n",
              "          docLink.innerHTML = docLinkHtml;\n",
              "          element.appendChild(docLink);\n",
              "        }\n",
              "      </script>\n",
              "    </div>\n",
              "  </div>\n",
              "  "
            ],
            "text/plain": [
              "       id        city        date  ... method    umpire1         umpire2\n",
              "0  335982   Bangalore  2008-04-18  ...    NaN  Asad Rauf     RE Koertzen\n",
              "1  335983  Chandigarh  2008-04-19  ...    NaN  MR Benson      SL Shastri\n",
              "2  335984       Delhi  2008-04-19  ...    NaN  Aleem Dar  GA Pratapkumar\n",
              "3  335985      Mumbai  2008-04-20  ...    NaN   SJ Davis       DJ Harper\n",
              "4  335986     Kolkata  2008-04-20  ...    NaN  BF Bowden     K Hariharan\n",
              "5  335987      Jaipur  2008-04-21  ...    NaN  Aleem Dar       RB Tiffin\n",
              "6  335988   Hyderabad  2008-04-22  ...    NaN  IL Howell       AM Saheba\n",
              "7  335989     Chennai  2008-04-23  ...    NaN  DJ Harper  GA Pratapkumar\n",
              "8  335990   Hyderabad  2008-04-24  ...    NaN  Asad Rauf       MR Benson\n",
              "9  335991  Chandigarh  2008-04-25  ...    NaN  Aleem Dar       AM Saheba\n",
              "\n",
              "[10 rows x 17 columns]"
            ]
          },
          "metadata": {},
          "execution_count": 19
        }
      ]
    },
    {
      "cell_type": "code",
      "source": [
        "matches['season'] = matches['date'].str[:4].astype(int)"
      ],
      "metadata": {
        "id": "k3gkLn-ldFaE"
      },
      "execution_count": 50,
      "outputs": []
    },
    {
      "cell_type": "code",
      "source": [
        "matches.info()"
      ],
      "metadata": {
        "colab": {
          "base_uri": "https://localhost:8080/"
        },
        "id": "HnsalZ_edZ7h",
        "outputId": "f3fc8c5d-65e8-478a-bdc7-bbd6d8d89919"
      },
      "execution_count": 51,
      "outputs": [
        {
          "output_type": "stream",
          "name": "stdout",
          "text": [
            "<class 'pandas.core.frame.DataFrame'>\n",
            "RangeIndex: 816 entries, 0 to 815\n",
            "Data columns (total 18 columns):\n",
            " #   Column           Non-Null Count  Dtype  \n",
            "---  ------           --------------  -----  \n",
            " 0   id               816 non-null    int64  \n",
            " 1   city             803 non-null    object \n",
            " 2   date             816 non-null    object \n",
            " 3   player_of_match  812 non-null    object \n",
            " 4   venue            816 non-null    object \n",
            " 5   neutral_venue    816 non-null    int64  \n",
            " 6   team1            816 non-null    object \n",
            " 7   team2            816 non-null    object \n",
            " 8   toss_winner      816 non-null    object \n",
            " 9   toss_decision    816 non-null    object \n",
            " 10  winner           812 non-null    object \n",
            " 11  result           812 non-null    object \n",
            " 12  result_margin    799 non-null    float64\n",
            " 13  eliminator       812 non-null    object \n",
            " 14  method           19 non-null     object \n",
            " 15  umpire1          816 non-null    object \n",
            " 16  umpire2          816 non-null    object \n",
            " 17  season           816 non-null    int64  \n",
            "dtypes: float64(1), int64(3), object(14)\n",
            "memory usage: 114.9+ KB\n"
          ]
        }
      ]
    },
    {
      "cell_type": "code",
      "source": [
        "matches.describe(include=['int64','float64'])"
      ],
      "metadata": {
        "colab": {
          "base_uri": "https://localhost:8080/",
          "height": 300
        },
        "id": "6hbKPbEJdxma",
        "outputId": "23a78025-50dc-4ae6-bd1a-d931fa597ac9"
      },
      "execution_count": 52,
      "outputs": [
        {
          "output_type": "execute_result",
          "data": {
            "text/html": [
              "\n",
              "  <div id=\"df-809a6390-76c5-4b7b-9db6-d8a94b05f8a8\">\n",
              "    <div class=\"colab-df-container\">\n",
              "      <div>\n",
              "<style scoped>\n",
              "    .dataframe tbody tr th:only-of-type {\n",
              "        vertical-align: middle;\n",
              "    }\n",
              "\n",
              "    .dataframe tbody tr th {\n",
              "        vertical-align: top;\n",
              "    }\n",
              "\n",
              "    .dataframe thead th {\n",
              "        text-align: right;\n",
              "    }\n",
              "</style>\n",
              "<table border=\"1\" class=\"dataframe\">\n",
              "  <thead>\n",
              "    <tr style=\"text-align: right;\">\n",
              "      <th></th>\n",
              "      <th>id</th>\n",
              "      <th>neutral_venue</th>\n",
              "      <th>result_margin</th>\n",
              "      <th>season</th>\n",
              "    </tr>\n",
              "  </thead>\n",
              "  <tbody>\n",
              "    <tr>\n",
              "      <th>count</th>\n",
              "      <td>8.160000e+02</td>\n",
              "      <td>816.000000</td>\n",
              "      <td>799.000000</td>\n",
              "      <td>816.000000</td>\n",
              "    </tr>\n",
              "    <tr>\n",
              "      <th>mean</th>\n",
              "      <td>7.563496e+05</td>\n",
              "      <td>0.094363</td>\n",
              "      <td>17.321652</td>\n",
              "      <td>2013.926471</td>\n",
              "    </tr>\n",
              "    <tr>\n",
              "      <th>std</th>\n",
              "      <td>3.058943e+05</td>\n",
              "      <td>0.292512</td>\n",
              "      <td>22.068427</td>\n",
              "      <td>3.665054</td>\n",
              "    </tr>\n",
              "    <tr>\n",
              "      <th>min</th>\n",
              "      <td>3.359820e+05</td>\n",
              "      <td>0.000000</td>\n",
              "      <td>1.000000</td>\n",
              "      <td>2008.000000</td>\n",
              "    </tr>\n",
              "    <tr>\n",
              "      <th>25%</th>\n",
              "      <td>5.012278e+05</td>\n",
              "      <td>0.000000</td>\n",
              "      <td>6.000000</td>\n",
              "      <td>2011.000000</td>\n",
              "    </tr>\n",
              "    <tr>\n",
              "      <th>50%</th>\n",
              "      <td>7.292980e+05</td>\n",
              "      <td>0.000000</td>\n",
              "      <td>8.000000</td>\n",
              "      <td>2014.000000</td>\n",
              "    </tr>\n",
              "    <tr>\n",
              "      <th>75%</th>\n",
              "      <td>1.082626e+06</td>\n",
              "      <td>0.000000</td>\n",
              "      <td>19.500000</td>\n",
              "      <td>2017.000000</td>\n",
              "    </tr>\n",
              "    <tr>\n",
              "      <th>max</th>\n",
              "      <td>1.237181e+06</td>\n",
              "      <td>1.000000</td>\n",
              "      <td>146.000000</td>\n",
              "      <td>2020.000000</td>\n",
              "    </tr>\n",
              "  </tbody>\n",
              "</table>\n",
              "</div>\n",
              "      <button class=\"colab-df-convert\" onclick=\"convertToInteractive('df-809a6390-76c5-4b7b-9db6-d8a94b05f8a8')\"\n",
              "              title=\"Convert this dataframe to an interactive table.\"\n",
              "              style=\"display:none;\">\n",
              "        \n",
              "  <svg xmlns=\"http://www.w3.org/2000/svg\" height=\"24px\"viewBox=\"0 0 24 24\"\n",
              "       width=\"24px\">\n",
              "    <path d=\"M0 0h24v24H0V0z\" fill=\"none\"/>\n",
              "    <path d=\"M18.56 5.44l.94 2.06.94-2.06 2.06-.94-2.06-.94-.94-2.06-.94 2.06-2.06.94zm-11 1L8.5 8.5l.94-2.06 2.06-.94-2.06-.94L8.5 2.5l-.94 2.06-2.06.94zm10 10l.94 2.06.94-2.06 2.06-.94-2.06-.94-.94-2.06-.94 2.06-2.06.94z\"/><path d=\"M17.41 7.96l-1.37-1.37c-.4-.4-.92-.59-1.43-.59-.52 0-1.04.2-1.43.59L10.3 9.45l-7.72 7.72c-.78.78-.78 2.05 0 2.83L4 21.41c.39.39.9.59 1.41.59.51 0 1.02-.2 1.41-.59l7.78-7.78 2.81-2.81c.8-.78.8-2.07 0-2.86zM5.41 20L4 18.59l7.72-7.72 1.47 1.35L5.41 20z\"/>\n",
              "  </svg>\n",
              "      </button>\n",
              "      \n",
              "  <style>\n",
              "    .colab-df-container {\n",
              "      display:flex;\n",
              "      flex-wrap:wrap;\n",
              "      gap: 12px;\n",
              "    }\n",
              "\n",
              "    .colab-df-convert {\n",
              "      background-color: #E8F0FE;\n",
              "      border: none;\n",
              "      border-radius: 50%;\n",
              "      cursor: pointer;\n",
              "      display: none;\n",
              "      fill: #1967D2;\n",
              "      height: 32px;\n",
              "      padding: 0 0 0 0;\n",
              "      width: 32px;\n",
              "    }\n",
              "\n",
              "    .colab-df-convert:hover {\n",
              "      background-color: #E2EBFA;\n",
              "      box-shadow: 0px 1px 2px rgba(60, 64, 67, 0.3), 0px 1px 3px 1px rgba(60, 64, 67, 0.15);\n",
              "      fill: #174EA6;\n",
              "    }\n",
              "\n",
              "    [theme=dark] .colab-df-convert {\n",
              "      background-color: #3B4455;\n",
              "      fill: #D2E3FC;\n",
              "    }\n",
              "\n",
              "    [theme=dark] .colab-df-convert:hover {\n",
              "      background-color: #434B5C;\n",
              "      box-shadow: 0px 1px 3px 1px rgba(0, 0, 0, 0.15);\n",
              "      filter: drop-shadow(0px 1px 2px rgba(0, 0, 0, 0.3));\n",
              "      fill: #FFFFFF;\n",
              "    }\n",
              "  </style>\n",
              "\n",
              "      <script>\n",
              "        const buttonEl =\n",
              "          document.querySelector('#df-809a6390-76c5-4b7b-9db6-d8a94b05f8a8 button.colab-df-convert');\n",
              "        buttonEl.style.display =\n",
              "          google.colab.kernel.accessAllowed ? 'block' : 'none';\n",
              "\n",
              "        async function convertToInteractive(key) {\n",
              "          const element = document.querySelector('#df-809a6390-76c5-4b7b-9db6-d8a94b05f8a8');\n",
              "          const dataTable =\n",
              "            await google.colab.kernel.invokeFunction('convertToInteractive',\n",
              "                                                     [key], {});\n",
              "          if (!dataTable) return;\n",
              "\n",
              "          const docLinkHtml = 'Like what you see? Visit the ' +\n",
              "            '<a target=\"_blank\" href=https://colab.research.google.com/notebooks/data_table.ipynb>data table notebook</a>'\n",
              "            + ' to learn more about interactive tables.';\n",
              "          element.innerHTML = '';\n",
              "          dataTable['output_type'] = 'display_data';\n",
              "          await google.colab.output.renderOutput(dataTable, element);\n",
              "          const docLink = document.createElement('div');\n",
              "          docLink.innerHTML = docLinkHtml;\n",
              "          element.appendChild(docLink);\n",
              "        }\n",
              "      </script>\n",
              "    </div>\n",
              "  </div>\n",
              "  "
            ],
            "text/plain": [
              "                 id  neutral_venue  result_margin       season\n",
              "count  8.160000e+02     816.000000     799.000000   816.000000\n",
              "mean   7.563496e+05       0.094363      17.321652  2013.926471\n",
              "std    3.058943e+05       0.292512      22.068427     3.665054\n",
              "min    3.359820e+05       0.000000       1.000000  2008.000000\n",
              "25%    5.012278e+05       0.000000       6.000000  2011.000000\n",
              "50%    7.292980e+05       0.000000       8.000000  2014.000000\n",
              "75%    1.082626e+06       0.000000      19.500000  2017.000000\n",
              "max    1.237181e+06       1.000000     146.000000  2020.000000"
            ]
          },
          "metadata": {},
          "execution_count": 52
        }
      ]
    },
    {
      "cell_type": "code",
      "source": [
        "cols_to_remove = ['eliminator' , 'method' , 'venue', 'id','date']\n",
        "matches.drop(labels=cols_to_remove , axis=1 , inplace = True)"
      ],
      "metadata": {
        "id": "zGAOBfzRlk7j"
      },
      "execution_count": 53,
      "outputs": []
    },
    {
      "cell_type": "code",
      "source": [
        "matches.isnull().sum()"
      ],
      "metadata": {
        "colab": {
          "base_uri": "https://localhost:8080/"
        },
        "id": "gItGszvifv_B",
        "outputId": "cabbf071-17d7-4f17-877a-bd1b7396bb1b"
      },
      "execution_count": 54,
      "outputs": [
        {
          "output_type": "execute_result",
          "data": {
            "text/plain": [
              "city               13\n",
              "player_of_match     4\n",
              "neutral_venue       0\n",
              "team1               0\n",
              "team2               0\n",
              "toss_winner         0\n",
              "toss_decision       0\n",
              "winner              4\n",
              "result              4\n",
              "result_margin      17\n",
              "umpire1             0\n",
              "umpire2             0\n",
              "season              0\n",
              "dtype: int64"
            ]
          },
          "metadata": {},
          "execution_count": 54
        }
      ]
    },
    {
      "cell_type": "code",
      "source": [
        "matches.dropna(inplace=True,axis=0)"
      ],
      "metadata": {
        "id": "iH1yZ20HJyrj"
      },
      "execution_count": 55,
      "outputs": []
    },
    {
      "cell_type": "code",
      "source": [
        "splt_col=matches.select_dtypes(include='object')\n",
        "no_col=matches.select_dtypes(include=np.number)\n",
        "print('categorical_Variables are: ',splt_col.columns)"
      ],
      "metadata": {
        "colab": {
          "base_uri": "https://localhost:8080/"
        },
        "id": "tcEHbo65iKIt",
        "outputId": "d8215018-a541-4625-aa49-6dbf2635fbcf"
      },
      "execution_count": 56,
      "outputs": [
        {
          "output_type": "stream",
          "name": "stdout",
          "text": [
            "categorical_Variables are:  Index(['city', 'player_of_match', 'team1', 'team2', 'toss_winner',\n",
            "       'toss_decision', 'winner', 'result', 'umpire1', 'umpire2'],\n",
            "      dtype='object')\n"
          ]
        }
      ]
    },
    {
      "cell_type": "markdown",
      "source": [
        "**Label Encoding**"
      ],
      "metadata": {
        "id": "ilyy9xDIuiCr"
      }
    },
    {
      "cell_type": "code",
      "source": [
        "from sklearn.preprocessing import LabelEncoder\n",
        "le = LabelEncoder()\n",
        "\n",
        "for feat in splt_col:\n",
        "    matches[feat] = le.fit_transform(matches[feat].astype(str))\n",
        "\n",
        "print (matches.info())"
      ],
      "metadata": {
        "colab": {
          "base_uri": "https://localhost:8080/"
        },
        "id": "YAPB2xE-oQte",
        "outputId": "daaaf36c-521a-466e-f40e-3c3968c2aba4"
      },
      "execution_count": 57,
      "outputs": [
        {
          "output_type": "stream",
          "name": "stdout",
          "text": [
            "<class 'pandas.core.frame.DataFrame'>\n",
            "Int64Index: 786 entries, 0 to 815\n",
            "Data columns (total 13 columns):\n",
            " #   Column           Non-Null Count  Dtype  \n",
            "---  ------           --------------  -----  \n",
            " 0   city             786 non-null    int64  \n",
            " 1   player_of_match  786 non-null    int64  \n",
            " 2   neutral_venue    786 non-null    int64  \n",
            " 3   team1            786 non-null    int64  \n",
            " 4   team2            786 non-null    int64  \n",
            " 5   toss_winner      786 non-null    int64  \n",
            " 6   toss_decision    786 non-null    int64  \n",
            " 7   winner           786 non-null    int64  \n",
            " 8   result           786 non-null    int64  \n",
            " 9   result_margin    786 non-null    float64\n",
            " 10  umpire1          786 non-null    int64  \n",
            " 11  umpire2          786 non-null    int64  \n",
            " 12  season           786 non-null    int64  \n",
            "dtypes: float64(1), int64(12)\n",
            "memory usage: 86.0 KB\n",
            "None\n"
          ]
        }
      ]
    },
    {
      "cell_type": "code",
      "source": [
        "corr = matches.corr()\n",
        "corr"
      ],
      "metadata": {
        "colab": {
          "base_uri": "https://localhost:8080/",
          "height": 521
        },
        "id": "e_Si7O5IlJkc",
        "outputId": "e89102f6-82f2-43c2-bedb-ec118f048d9d"
      },
      "execution_count": 58,
      "outputs": [
        {
          "output_type": "execute_result",
          "data": {
            "text/html": [
              "\n",
              "  <div id=\"df-332b29b3-b271-4021-a90d-83b5f2e97bb4\">\n",
              "    <div class=\"colab-df-container\">\n",
              "      <div>\n",
              "<style scoped>\n",
              "    .dataframe tbody tr th:only-of-type {\n",
              "        vertical-align: middle;\n",
              "    }\n",
              "\n",
              "    .dataframe tbody tr th {\n",
              "        vertical-align: top;\n",
              "    }\n",
              "\n",
              "    .dataframe thead th {\n",
              "        text-align: right;\n",
              "    }\n",
              "</style>\n",
              "<table border=\"1\" class=\"dataframe\">\n",
              "  <thead>\n",
              "    <tr style=\"text-align: right;\">\n",
              "      <th></th>\n",
              "      <th>city</th>\n",
              "      <th>player_of_match</th>\n",
              "      <th>neutral_venue</th>\n",
              "      <th>team1</th>\n",
              "      <th>team2</th>\n",
              "      <th>toss_winner</th>\n",
              "      <th>toss_decision</th>\n",
              "      <th>winner</th>\n",
              "      <th>result</th>\n",
              "      <th>result_margin</th>\n",
              "      <th>umpire1</th>\n",
              "      <th>umpire2</th>\n",
              "      <th>season</th>\n",
              "    </tr>\n",
              "  </thead>\n",
              "  <tbody>\n",
              "    <tr>\n",
              "      <th>city</th>\n",
              "      <td>1.000000</td>\n",
              "      <td>0.033356</td>\n",
              "      <td>-0.095998</td>\n",
              "      <td>0.001869</td>\n",
              "      <td>0.010470</td>\n",
              "      <td>0.049168</td>\n",
              "      <td>-0.023122</td>\n",
              "      <td>-0.001974</td>\n",
              "      <td>0.029243</td>\n",
              "      <td>-0.042373</td>\n",
              "      <td>-0.080782</td>\n",
              "      <td>-0.045449</td>\n",
              "      <td>0.025197</td>\n",
              "    </tr>\n",
              "    <tr>\n",
              "      <th>player_of_match</th>\n",
              "      <td>0.033356</td>\n",
              "      <td>1.000000</td>\n",
              "      <td>-0.009224</td>\n",
              "      <td>-0.040538</td>\n",
              "      <td>-0.063783</td>\n",
              "      <td>-0.033345</td>\n",
              "      <td>-0.028184</td>\n",
              "      <td>-0.100092</td>\n",
              "      <td>0.021825</td>\n",
              "      <td>-0.037058</td>\n",
              "      <td>0.006509</td>\n",
              "      <td>-0.039831</td>\n",
              "      <td>-0.018511</td>\n",
              "    </tr>\n",
              "    <tr>\n",
              "      <th>neutral_venue</th>\n",
              "      <td>-0.095998</td>\n",
              "      <td>-0.009224</td>\n",
              "      <td>1.000000</td>\n",
              "      <td>-0.017189</td>\n",
              "      <td>0.019807</td>\n",
              "      <td>-0.002031</td>\n",
              "      <td>-0.131670</td>\n",
              "      <td>0.002717</td>\n",
              "      <td>-0.015937</td>\n",
              "      <td>0.007910</td>\n",
              "      <td>0.060012</td>\n",
              "      <td>0.061598</td>\n",
              "      <td>-0.349686</td>\n",
              "    </tr>\n",
              "    <tr>\n",
              "      <th>team1</th>\n",
              "      <td>0.001869</td>\n",
              "      <td>-0.040538</td>\n",
              "      <td>-0.017189</td>\n",
              "      <td>1.000000</td>\n",
              "      <td>-0.144923</td>\n",
              "      <td>0.396098</td>\n",
              "      <td>0.069795</td>\n",
              "      <td>0.514911</td>\n",
              "      <td>0.030594</td>\n",
              "      <td>0.001708</td>\n",
              "      <td>-0.026827</td>\n",
              "      <td>0.018335</td>\n",
              "      <td>0.004158</td>\n",
              "    </tr>\n",
              "    <tr>\n",
              "      <th>team2</th>\n",
              "      <td>0.010470</td>\n",
              "      <td>-0.063783</td>\n",
              "      <td>0.019807</td>\n",
              "      <td>-0.144923</td>\n",
              "      <td>1.000000</td>\n",
              "      <td>0.481532</td>\n",
              "      <td>-0.053663</td>\n",
              "      <td>0.347362</td>\n",
              "      <td>-0.033557</td>\n",
              "      <td>-0.008525</td>\n",
              "      <td>0.007968</td>\n",
              "      <td>-0.061240</td>\n",
              "      <td>-0.011861</td>\n",
              "    </tr>\n",
              "    <tr>\n",
              "      <th>toss_winner</th>\n",
              "      <td>0.049168</td>\n",
              "      <td>-0.033345</td>\n",
              "      <td>-0.002031</td>\n",
              "      <td>0.396098</td>\n",
              "      <td>0.481532</td>\n",
              "      <td>1.000000</td>\n",
              "      <td>-0.000935</td>\n",
              "      <td>0.483943</td>\n",
              "      <td>0.020134</td>\n",
              "      <td>-0.032517</td>\n",
              "      <td>0.011378</td>\n",
              "      <td>-0.045594</td>\n",
              "      <td>-0.050114</td>\n",
              "    </tr>\n",
              "    <tr>\n",
              "      <th>toss_decision</th>\n",
              "      <td>-0.023122</td>\n",
              "      <td>-0.028184</td>\n",
              "      <td>-0.131670</td>\n",
              "      <td>0.069795</td>\n",
              "      <td>-0.053663</td>\n",
              "      <td>-0.000935</td>\n",
              "      <td>1.000000</td>\n",
              "      <td>0.033085</td>\n",
              "      <td>0.020218</td>\n",
              "      <td>0.028201</td>\n",
              "      <td>0.043105</td>\n",
              "      <td>-0.057294</td>\n",
              "      <td>0.228629</td>\n",
              "    </tr>\n",
              "    <tr>\n",
              "      <th>winner</th>\n",
              "      <td>-0.001974</td>\n",
              "      <td>-0.100092</td>\n",
              "      <td>0.002717</td>\n",
              "      <td>0.514911</td>\n",
              "      <td>0.347362</td>\n",
              "      <td>0.483943</td>\n",
              "      <td>0.033085</td>\n",
              "      <td>1.000000</td>\n",
              "      <td>-0.017406</td>\n",
              "      <td>-0.007479</td>\n",
              "      <td>0.011789</td>\n",
              "      <td>0.034134</td>\n",
              "      <td>0.016169</td>\n",
              "    </tr>\n",
              "    <tr>\n",
              "      <th>result</th>\n",
              "      <td>0.029243</td>\n",
              "      <td>0.021825</td>\n",
              "      <td>-0.015937</td>\n",
              "      <td>0.030594</td>\n",
              "      <td>-0.033557</td>\n",
              "      <td>0.020134</td>\n",
              "      <td>0.020218</td>\n",
              "      <td>-0.017406</td>\n",
              "      <td>1.000000</td>\n",
              "      <td>-0.549009</td>\n",
              "      <td>0.001196</td>\n",
              "      <td>-0.084878</td>\n",
              "      <td>0.020417</td>\n",
              "    </tr>\n",
              "    <tr>\n",
              "      <th>result_margin</th>\n",
              "      <td>-0.042373</td>\n",
              "      <td>-0.037058</td>\n",
              "      <td>0.007910</td>\n",
              "      <td>0.001708</td>\n",
              "      <td>-0.008525</td>\n",
              "      <td>-0.032517</td>\n",
              "      <td>0.028201</td>\n",
              "      <td>-0.007479</td>\n",
              "      <td>-0.549009</td>\n",
              "      <td>1.000000</td>\n",
              "      <td>-0.028243</td>\n",
              "      <td>0.051096</td>\n",
              "      <td>-0.002046</td>\n",
              "    </tr>\n",
              "    <tr>\n",
              "      <th>umpire1</th>\n",
              "      <td>-0.080782</td>\n",
              "      <td>0.006509</td>\n",
              "      <td>0.060012</td>\n",
              "      <td>-0.026827</td>\n",
              "      <td>0.007968</td>\n",
              "      <td>0.011378</td>\n",
              "      <td>0.043105</td>\n",
              "      <td>0.011789</td>\n",
              "      <td>0.001196</td>\n",
              "      <td>-0.028243</td>\n",
              "      <td>1.000000</td>\n",
              "      <td>0.036629</td>\n",
              "      <td>0.061181</td>\n",
              "    </tr>\n",
              "    <tr>\n",
              "      <th>umpire2</th>\n",
              "      <td>-0.045449</td>\n",
              "      <td>-0.039831</td>\n",
              "      <td>0.061598</td>\n",
              "      <td>0.018335</td>\n",
              "      <td>-0.061240</td>\n",
              "      <td>-0.045594</td>\n",
              "      <td>-0.057294</td>\n",
              "      <td>0.034134</td>\n",
              "      <td>-0.084878</td>\n",
              "      <td>0.051096</td>\n",
              "      <td>0.036629</td>\n",
              "      <td>1.000000</td>\n",
              "      <td>-0.079940</td>\n",
              "    </tr>\n",
              "    <tr>\n",
              "      <th>season</th>\n",
              "      <td>0.025197</td>\n",
              "      <td>-0.018511</td>\n",
              "      <td>-0.349686</td>\n",
              "      <td>0.004158</td>\n",
              "      <td>-0.011861</td>\n",
              "      <td>-0.050114</td>\n",
              "      <td>0.228629</td>\n",
              "      <td>0.016169</td>\n",
              "      <td>0.020417</td>\n",
              "      <td>-0.002046</td>\n",
              "      <td>0.061181</td>\n",
              "      <td>-0.079940</td>\n",
              "      <td>1.000000</td>\n",
              "    </tr>\n",
              "  </tbody>\n",
              "</table>\n",
              "</div>\n",
              "      <button class=\"colab-df-convert\" onclick=\"convertToInteractive('df-332b29b3-b271-4021-a90d-83b5f2e97bb4')\"\n",
              "              title=\"Convert this dataframe to an interactive table.\"\n",
              "              style=\"display:none;\">\n",
              "        \n",
              "  <svg xmlns=\"http://www.w3.org/2000/svg\" height=\"24px\"viewBox=\"0 0 24 24\"\n",
              "       width=\"24px\">\n",
              "    <path d=\"M0 0h24v24H0V0z\" fill=\"none\"/>\n",
              "    <path d=\"M18.56 5.44l.94 2.06.94-2.06 2.06-.94-2.06-.94-.94-2.06-.94 2.06-2.06.94zm-11 1L8.5 8.5l.94-2.06 2.06-.94-2.06-.94L8.5 2.5l-.94 2.06-2.06.94zm10 10l.94 2.06.94-2.06 2.06-.94-2.06-.94-.94-2.06-.94 2.06-2.06.94z\"/><path d=\"M17.41 7.96l-1.37-1.37c-.4-.4-.92-.59-1.43-.59-.52 0-1.04.2-1.43.59L10.3 9.45l-7.72 7.72c-.78.78-.78 2.05 0 2.83L4 21.41c.39.39.9.59 1.41.59.51 0 1.02-.2 1.41-.59l7.78-7.78 2.81-2.81c.8-.78.8-2.07 0-2.86zM5.41 20L4 18.59l7.72-7.72 1.47 1.35L5.41 20z\"/>\n",
              "  </svg>\n",
              "      </button>\n",
              "      \n",
              "  <style>\n",
              "    .colab-df-container {\n",
              "      display:flex;\n",
              "      flex-wrap:wrap;\n",
              "      gap: 12px;\n",
              "    }\n",
              "\n",
              "    .colab-df-convert {\n",
              "      background-color: #E8F0FE;\n",
              "      border: none;\n",
              "      border-radius: 50%;\n",
              "      cursor: pointer;\n",
              "      display: none;\n",
              "      fill: #1967D2;\n",
              "      height: 32px;\n",
              "      padding: 0 0 0 0;\n",
              "      width: 32px;\n",
              "    }\n",
              "\n",
              "    .colab-df-convert:hover {\n",
              "      background-color: #E2EBFA;\n",
              "      box-shadow: 0px 1px 2px rgba(60, 64, 67, 0.3), 0px 1px 3px 1px rgba(60, 64, 67, 0.15);\n",
              "      fill: #174EA6;\n",
              "    }\n",
              "\n",
              "    [theme=dark] .colab-df-convert {\n",
              "      background-color: #3B4455;\n",
              "      fill: #D2E3FC;\n",
              "    }\n",
              "\n",
              "    [theme=dark] .colab-df-convert:hover {\n",
              "      background-color: #434B5C;\n",
              "      box-shadow: 0px 1px 3px 1px rgba(0, 0, 0, 0.15);\n",
              "      filter: drop-shadow(0px 1px 2px rgba(0, 0, 0, 0.3));\n",
              "      fill: #FFFFFF;\n",
              "    }\n",
              "  </style>\n",
              "\n",
              "      <script>\n",
              "        const buttonEl =\n",
              "          document.querySelector('#df-332b29b3-b271-4021-a90d-83b5f2e97bb4 button.colab-df-convert');\n",
              "        buttonEl.style.display =\n",
              "          google.colab.kernel.accessAllowed ? 'block' : 'none';\n",
              "\n",
              "        async function convertToInteractive(key) {\n",
              "          const element = document.querySelector('#df-332b29b3-b271-4021-a90d-83b5f2e97bb4');\n",
              "          const dataTable =\n",
              "            await google.colab.kernel.invokeFunction('convertToInteractive',\n",
              "                                                     [key], {});\n",
              "          if (!dataTable) return;\n",
              "\n",
              "          const docLinkHtml = 'Like what you see? Visit the ' +\n",
              "            '<a target=\"_blank\" href=https://colab.research.google.com/notebooks/data_table.ipynb>data table notebook</a>'\n",
              "            + ' to learn more about interactive tables.';\n",
              "          element.innerHTML = '';\n",
              "          dataTable['output_type'] = 'display_data';\n",
              "          await google.colab.output.renderOutput(dataTable, element);\n",
              "          const docLink = document.createElement('div');\n",
              "          docLink.innerHTML = docLinkHtml;\n",
              "          element.appendChild(docLink);\n",
              "        }\n",
              "      </script>\n",
              "    </div>\n",
              "  </div>\n",
              "  "
            ],
            "text/plain": [
              "                     city  player_of_match  ...   umpire2    season\n",
              "city             1.000000         0.033356  ... -0.045449  0.025197\n",
              "player_of_match  0.033356         1.000000  ... -0.039831 -0.018511\n",
              "neutral_venue   -0.095998        -0.009224  ...  0.061598 -0.349686\n",
              "team1            0.001869        -0.040538  ...  0.018335  0.004158\n",
              "team2            0.010470        -0.063783  ... -0.061240 -0.011861\n",
              "toss_winner      0.049168        -0.033345  ... -0.045594 -0.050114\n",
              "toss_decision   -0.023122        -0.028184  ... -0.057294  0.228629\n",
              "winner          -0.001974        -0.100092  ...  0.034134  0.016169\n",
              "result           0.029243         0.021825  ... -0.084878  0.020417\n",
              "result_margin   -0.042373        -0.037058  ...  0.051096 -0.002046\n",
              "umpire1         -0.080782         0.006509  ...  0.036629  0.061181\n",
              "umpire2         -0.045449        -0.039831  ...  1.000000 -0.079940\n",
              "season           0.025197        -0.018511  ... -0.079940  1.000000\n",
              "\n",
              "[13 rows x 13 columns]"
            ]
          },
          "metadata": {},
          "execution_count": 58
        }
      ]
    },
    {
      "cell_type": "markdown",
      "source": [
        "**Data Visualization**"
      ],
      "metadata": {
        "id": "vKp11Cw8t6Sw"
      }
    },
    {
      "cell_type": "code",
      "source": [
        "plt.figure(figsize=(15,8)) \n",
        "sns.heatmap(corr, annot=True);"
      ],
      "metadata": {
        "colab": {
          "base_uri": "https://localhost:8080/",
          "height": 559
        },
        "id": "ZWG1yMeLmWZr",
        "outputId": "a30c5c2e-4251-4074-b571-872f64d0debb"
      },
      "execution_count": 82,
      "outputs": [
        {
          "output_type": "display_data",
          "data": {
            "image/png": "[encoded data removed]",
            "text/plain": [
              "<Figure size 1080x576 with 2 Axes>"
            ]
          },
          "metadata": {
            "needs_background": "light"
          }
        }
      ]
    },
    {
      "cell_type": "code",
      "source": [
        "sns.catplot(x=\"team1\", y=\"team2\", kind=\"point\", data=matches); "
      ],
      "metadata": {
        "colab": {
          "base_uri": "https://localhost:8080/",
          "height": 369
        },
        "id": "wqhkO0qsmWO0",
        "outputId": "bed39b48-9d7d-4be0-b9ff-0a318b3f0ac4"
      },
      "execution_count": 81,
      "outputs": [
        {
          "output_type": "display_data",
          "data": {
            "image/png": "[encoded data removed]",
            "text/plain": [
              "<Figure size 360x360 with 1 Axes>"
            ]
          },
          "metadata": {
            "needs_background": "light"
          }
        }
      ]
    },
    {
      "cell_type": "code",
      "source": [
        "sns.violinplot(x='winner',y='venue',hue=\"toss_decision\",data=matches);"
      ],
      "metadata": {
        "colab": {
          "base_uri": "https://localhost:8080/",
          "height": 279
        },
        "id": "LCsDBOnrg48K",
        "outputId": "b3cdd926-da13-42bb-d2fc-d62a5c0db917"
      },
      "execution_count": null,
      "outputs": [
        {
          "output_type": "display_data",
          "data": {
            "image/png": "[encoded data removed]",
            "text/plain": [
              "<Figure size 432x288 with 1 Axes>"
            ]
          },
          "metadata": {
            "needs_background": "light"
          }
        }
      ]
    },
    {
      "cell_type": "code",
      "source": [
        "sns.jointplot(x=\"toss_winner\",y='winner',data=matches);"
      ],
      "metadata": {
        "colab": {
          "base_uri": "https://localhost:8080/",
          "height": 441
        },
        "id": "WNLCznO9gjeA",
        "outputId": "9249dba3-320b-4469-a6f9-6a95cbcb3177"
      },
      "execution_count": null,
      "outputs": [
        {
          "output_type": "display_data",
          "data": {
            "image/png": "[encoded data removed]",
            "text/plain": [
              "<Figure size 432x432 with 3 Axes>"
            ]
          },
          "metadata": {
            "needs_background": "light"
          }
        }
      ]
    },
    {
      "cell_type": "code",
      "source": [
        "plt.figure(figsize=(16,5)) \n",
        "sns.countplot(x=\"season\", hue=\"winner\", data=matches); \n",
        "plt.show() "
      ],
      "metadata": {
        "colab": {
          "base_uri": "https://localhost:8080/",
          "height": 334
        },
        "id": "qVP-6-2mmYLE",
        "outputId": "5f8ce98a-11d9-4eb0-9bf6-e1723aa5c2fc"
      },
      "execution_count": 86,
      "outputs": [
        {
          "output_type": "display_data",
          "data": {
            "image/png": "[encoded data removed]",
            "text/plain": [
              "<Figure size 1152x360 with 1 Axes>"
            ]
          },
          "metadata": {
            "needs_background": "light"
          }
        }
      ]
    },
    {
      "cell_type": "markdown",
      "source": [
        "**Outlier Detection**"
      ],
      "metadata": {
        "id": "xa2uVsMQtTxU"
      }
    },
    {
      "cell_type": "code",
      "source": [
        "plt.figure(figsize=(18,100))\n",
        "for i, col in enumerate(matches.columns,1):\n",
        "    plt.subplot(24,3,i)\n",
        "    sns.boxplot(matches[col])\n",
        "    plt.ylabel(col)\n",
        "plt.show()"
      ],
      "metadata": {
        "id": "wmvrg0fCo-iz",
        "colab": {
          "base_uri": "https://localhost:8080/",
          "height": 1000
        },
        "outputId": "f8494c2f-0aea-4d43-b46c-2988c8c5e97f"
      },
      "execution_count": 59,
      "outputs": [
        {
          "output_type": "display_data",
          "data": {
            "image/png": "[encoded data removed]",
            "text/plain": [
              "<Figure size 1296x7200 with 13 Axes>"
            ]
          },
          "metadata": {
            "needs_background": "light"
          }
        }
      ]
    },
    {
      "cell_type": "markdown",
      "source": [
        "**Spliting the variables**"
      ],
      "metadata": {
        "id": "0RAhSTwqtPgU"
      }
    },
    {
      "cell_type": "code",
      "source": [
        "# define x_indipendent variables and y_dependent variables:\n",
        "y_dep = matches.winner\n",
        "x_ind = matches.drop(\"winner\",axis=1)"
      ],
      "metadata": {
        "id": "M_TtM30BNgQU"
      },
      "execution_count": 60,
      "outputs": []
    },
    {
      "cell_type": "code",
      "source": [
        "from sklearn.model_selection import train_test_split\n",
        "x_train,x_test, y_train, y_test = train_test_split(x_ind, y_dep, test_size = 0.2, random_state = 4)"
      ],
      "metadata": {
        "id": "63MD4tMYRcfd"
      },
      "execution_count": 61,
      "outputs": []
    },
    {
      "cell_type": "markdown",
      "source": [
        "**Feature Selection**"
      ],
      "metadata": {
        "id": "lmLj1mVstHya"
      }
    },
    {
      "cell_type": "code",
      "source": [
        "from sklearn.ensemble import RandomForestClassifier \n",
        "from sklearn.feature_selection import SelectFromModel \n",
        "\n",
        "model_rf=SelectFromModel(RandomForestClassifier(random_state=4))"
      ],
      "metadata": {
        "id": "dELsytR_npXh"
      },
      "execution_count": 62,
      "outputs": []
    },
    {
      "cell_type": "code",
      "source": [
        "model_rf.fit(x_train,y_train) \n",
        "SelectFromModel(estimator=RandomForestClassifier(random_state=4)) "
      ],
      "metadata": {
        "colab": {
          "base_uri": "https://localhost:8080/"
        },
        "id": "SMUll4u-npTN",
        "outputId": "152d05bb-3a82-4184-f538-31978eda0025"
      },
      "execution_count": 63,
      "outputs": [
        {
          "output_type": "execute_result",
          "data": {
            "text/plain": [
              "SelectFromModel(estimator=RandomForestClassifier(random_state=4))"
            ]
          },
          "metadata": {},
          "execution_count": 63
        }
      ]
    },
    {
      "cell_type": "code",
      "source": [
        "model_rf.get_support() "
      ],
      "metadata": {
        "colab": {
          "base_uri": "https://localhost:8080/"
        },
        "id": "dbyDYicTnpOc",
        "outputId": "989b9cf7-a570-4798-cba8-42c39bf7a27d"
      },
      "execution_count": 64,
      "outputs": [
        {
          "output_type": "execute_result",
          "data": {
            "text/plain": [
              "array([ True,  True, False,  True,  True,  True, False, False,  True,\n",
              "        True, False, False])"
            ]
          },
          "metadata": {},
          "execution_count": 64
        }
      ]
    },
    {
      "cell_type": "code",
      "source": [
        "selected_features=x_train.columns[(model_rf.get_support())] \n",
        "len(selected_features)"
      ],
      "metadata": {
        "colab": {
          "base_uri": "https://localhost:8080/"
        },
        "id": "k7e9l68nnpKa",
        "outputId": "d300479d-6997-4869-fa9c-92ffff708b57"
      },
      "execution_count": 66,
      "outputs": [
        {
          "output_type": "execute_result",
          "data": {
            "text/plain": [
              "7"
            ]
          },
          "metadata": {},
          "execution_count": 66
        }
      ]
    },
    {
      "cell_type": "code",
      "source": [
        "print(selected_features) "
      ],
      "metadata": {
        "colab": {
          "base_uri": "https://localhost:8080/"
        },
        "id": "o9MJB__hno6R",
        "outputId": "8bbba5d4-bc80-41c9-f0f6-f125fca54908"
      },
      "execution_count": 67,
      "outputs": [
        {
          "output_type": "stream",
          "name": "stdout",
          "text": [
            "Index(['city', 'player_of_match', 'team1', 'team2', 'toss_winner',\n",
            "       'result_margin', 'umpire1'],\n",
            "      dtype='object')\n"
          ]
        }
      ]
    },
    {
      "cell_type": "code",
      "source": [
        "x_train.drop([ 'city', 'player_of_match', 'team1', 'team2', 'toss_winner',\n",
        "       'result_margin', 'umpire1'], axis=1, inplace=True)\n",
        "x_train "
      ],
      "metadata": {
        "colab": {
          "base_uri": "https://localhost:8080/",
          "height": 424
        },
        "id": "IZHoq9xsoS0J",
        "outputId": "35c88882-f77f-4caa-8a6e-04ea257e52a8"
      },
      "execution_count": 68,
      "outputs": [
        {
          "output_type": "execute_result",
          "data": {
            "text/html": [
              "\n",
              "  <div id=\"df-b1648490-8f70-4adb-a07d-2ca442434467\">\n",
              "    <div class=\"colab-df-container\">\n",
              "      <div>\n",
              "<style scoped>\n",
              "    .dataframe tbody tr th:only-of-type {\n",
              "        vertical-align: middle;\n",
              "    }\n",
              "\n",
              "    .dataframe tbody tr th {\n",
              "        vertical-align: top;\n",
              "    }\n",
              "\n",
              "    .dataframe thead th {\n",
              "        text-align: right;\n",
              "    }\n",
              "</style>\n",
              "<table border=\"1\" class=\"dataframe\">\n",
              "  <thead>\n",
              "    <tr style=\"text-align: right;\">\n",
              "      <th></th>\n",
              "      <th>neutral_venue</th>\n",
              "      <th>toss_decision</th>\n",
              "      <th>result</th>\n",
              "      <th>umpire2</th>\n",
              "      <th>season</th>\n",
              "    </tr>\n",
              "  </thead>\n",
              "  <tbody>\n",
              "    <tr>\n",
              "      <th>568</th>\n",
              "      <td>0</td>\n",
              "      <td>1</td>\n",
              "      <td>1</td>\n",
              "      <td>7</td>\n",
              "      <td>2016</td>\n",
              "    </tr>\n",
              "    <tr>\n",
              "      <th>273</th>\n",
              "      <td>0</td>\n",
              "      <td>1</td>\n",
              "      <td>1</td>\n",
              "      <td>30</td>\n",
              "      <td>2012</td>\n",
              "    </tr>\n",
              "    <tr>\n",
              "      <th>674</th>\n",
              "      <td>0</td>\n",
              "      <td>1</td>\n",
              "      <td>0</td>\n",
              "      <td>45</td>\n",
              "      <td>2018</td>\n",
              "    </tr>\n",
              "    <tr>\n",
              "      <th>667</th>\n",
              "      <td>0</td>\n",
              "      <td>1</td>\n",
              "      <td>0</td>\n",
              "      <td>11</td>\n",
              "      <td>2018</td>\n",
              "    </tr>\n",
              "    <tr>\n",
              "      <th>745</th>\n",
              "      <td>0</td>\n",
              "      <td>1</td>\n",
              "      <td>0</td>\n",
              "      <td>25</td>\n",
              "      <td>2019</td>\n",
              "    </tr>\n",
              "    <tr>\n",
              "      <th>...</th>\n",
              "      <td>...</td>\n",
              "      <td>...</td>\n",
              "      <td>...</td>\n",
              "      <td>...</td>\n",
              "      <td>...</td>\n",
              "    </tr>\n",
              "    <tr>\n",
              "      <th>365</th>\n",
              "      <td>0</td>\n",
              "      <td>0</td>\n",
              "      <td>0</td>\n",
              "      <td>44</td>\n",
              "      <td>2013</td>\n",
              "    </tr>\n",
              "    <tr>\n",
              "      <th>733</th>\n",
              "      <td>0</td>\n",
              "      <td>1</td>\n",
              "      <td>1</td>\n",
              "      <td>25</td>\n",
              "      <td>2019</td>\n",
              "    </tr>\n",
              "    <tr>\n",
              "      <th>458</th>\n",
              "      <td>0</td>\n",
              "      <td>1</td>\n",
              "      <td>1</td>\n",
              "      <td>9</td>\n",
              "      <td>2015</td>\n",
              "    </tr>\n",
              "    <tr>\n",
              "      <th>176</th>\n",
              "      <td>0</td>\n",
              "      <td>1</td>\n",
              "      <td>1</td>\n",
              "      <td>39</td>\n",
              "      <td>2011</td>\n",
              "    </tr>\n",
              "    <tr>\n",
              "      <th>123</th>\n",
              "      <td>0</td>\n",
              "      <td>1</td>\n",
              "      <td>0</td>\n",
              "      <td>39</td>\n",
              "      <td>2010</td>\n",
              "    </tr>\n",
              "  </tbody>\n",
              "</table>\n",
              "<p>628 rows × 5 columns</p>\n",
              "</div>\n",
              "      <button class=\"colab-df-convert\" onclick=\"convertToInteractive('df-b1648490-8f70-4adb-a07d-2ca442434467')\"\n",
              "              title=\"Convert this dataframe to an interactive table.\"\n",
              "              style=\"display:none;\">\n",
              "        \n",
              "  <svg xmlns=\"http://www.w3.org/2000/svg\" height=\"24px\"viewBox=\"0 0 24 24\"\n",
              "       width=\"24px\">\n",
              "    <path d=\"M0 0h24v24H0V0z\" fill=\"none\"/>\n",
              "    <path d=\"M18.56 5.44l.94 2.06.94-2.06 2.06-.94-2.06-.94-.94-2.06-.94 2.06-2.06.94zm-11 1L8.5 8.5l.94-2.06 2.06-.94-2.06-.94L8.5 2.5l-.94 2.06-2.06.94zm10 10l.94 2.06.94-2.06 2.06-.94-2.06-.94-.94-2.06-.94 2.06-2.06.94z\"/><path d=\"M17.41 7.96l-1.37-1.37c-.4-.4-.92-.59-1.43-.59-.52 0-1.04.2-1.43.59L10.3 9.45l-7.72 7.72c-.78.78-.78 2.05 0 2.83L4 21.41c.39.39.9.59 1.41.59.51 0 1.02-.2 1.41-.59l7.78-7.78 2.81-2.81c.8-.78.8-2.07 0-2.86zM5.41 20L4 18.59l7.72-7.72 1.47 1.35L5.41 20z\"/>\n",
              "  </svg>\n",
              "      </button>\n",
              "      \n",
              "  <style>\n",
              "    .colab-df-container {\n",
              "      display:flex;\n",
              "      flex-wrap:wrap;\n",
              "      gap: 12px;\n",
              "    }\n",
              "\n",
              "    .colab-df-convert {\n",
              "      background-color: #E8F0FE;\n",
              "      border: none;\n",
              "      border-radius: 50%;\n",
              "      cursor: pointer;\n",
              "      display: none;\n",
              "      fill: #1967D2;\n",
              "      height: 32px;\n",
              "      padding: 0 0 0 0;\n",
              "      width: 32px;\n",
              "    }\n",
              "\n",
              "    .colab-df-convert:hover {\n",
              "      background-color: #E2EBFA;\n",
              "      box-shadow: 0px 1px 2px rgba(60, 64, 67, 0.3), 0px 1px 3px 1px rgba(60, 64, 67, 0.15);\n",
              "      fill: #174EA6;\n",
              "    }\n",
              "\n",
              "    [theme=dark] .colab-df-convert {\n",
              "      background-color: #3B4455;\n",
              "      fill: #D2E3FC;\n",
              "    }\n",
              "\n",
              "    [theme=dark] .colab-df-convert:hover {\n",
              "      background-color: #434B5C;\n",
              "      box-shadow: 0px 1px 3px 1px rgba(0, 0, 0, 0.15);\n",
              "      filter: drop-shadow(0px 1px 2px rgba(0, 0, 0, 0.3));\n",
              "      fill: #FFFFFF;\n",
              "    }\n",
              "  </style>\n",
              "\n",
              "      <script>\n",
              "        const buttonEl =\n",
              "          document.querySelector('#df-b1648490-8f70-4adb-a07d-2ca442434467 button.colab-df-convert');\n",
              "        buttonEl.style.display =\n",
              "          google.colab.kernel.accessAllowed ? 'block' : 'none';\n",
              "\n",
              "        async function convertToInteractive(key) {\n",
              "          const element = document.querySelector('#df-b1648490-8f70-4adb-a07d-2ca442434467');\n",
              "          const dataTable =\n",
              "            await google.colab.kernel.invokeFunction('convertToInteractive',\n",
              "                                                     [key], {});\n",
              "          if (!dataTable) return;\n",
              "\n",
              "          const docLinkHtml = 'Like what you see? Visit the ' +\n",
              "            '<a target=\"_blank\" href=https://colab.research.google.com/notebooks/data_table.ipynb>data table notebook</a>'\n",
              "            + ' to learn more about interactive tables.';\n",
              "          element.innerHTML = '';\n",
              "          dataTable['output_type'] = 'display_data';\n",
              "          await google.colab.output.renderOutput(dataTable, element);\n",
              "          const docLink = document.createElement('div');\n",
              "          docLink.innerHTML = docLinkHtml;\n",
              "          element.appendChild(docLink);\n",
              "        }\n",
              "      </script>\n",
              "    </div>\n",
              "  </div>\n",
              "  "
            ],
            "text/plain": [
              "     neutral_venue  toss_decision  result  umpire2  season\n",
              "568              0              1       1        7    2016\n",
              "273              0              1       1       30    2012\n",
              "674              0              1       0       45    2018\n",
              "667              0              1       0       11    2018\n",
              "745              0              1       0       25    2019\n",
              "..             ...            ...     ...      ...     ...\n",
              "365              0              0       0       44    2013\n",
              "733              0              1       1       25    2019\n",
              "458              0              1       1        9    2015\n",
              "176              0              1       1       39    2011\n",
              "123              0              1       0       39    2010\n",
              "\n",
              "[628 rows x 5 columns]"
            ]
          },
          "metadata": {},
          "execution_count": 68
        }
      ]
    },
    {
      "cell_type": "code",
      "source": [
        "x_test.drop(['city', 'player_of_match', 'team1', 'team2', 'toss_winner',\n",
        "       'result_margin', 'umpire1'], axis=1, inplace=True) \n",
        "x_test "
      ],
      "metadata": {
        "colab": {
          "base_uri": "https://localhost:8080/",
          "height": 424
        },
        "id": "jtgAl9FcoSul",
        "outputId": "97d1d1a1-d6f5-444f-b702-f73c897ce514"
      },
      "execution_count": 69,
      "outputs": [
        {
          "output_type": "execute_result",
          "data": {
            "text/html": [
              "\n",
              "  <div id=\"df-85e6dbc5-397d-4198-a225-ae823ee2e7e5\">\n",
              "    <div class=\"colab-df-container\">\n",
              "      <div>\n",
              "<style scoped>\n",
              "    .dataframe tbody tr th:only-of-type {\n",
              "        vertical-align: middle;\n",
              "    }\n",
              "\n",
              "    .dataframe tbody tr th {\n",
              "        vertical-align: top;\n",
              "    }\n",
              "\n",
              "    .dataframe thead th {\n",
              "        text-align: right;\n",
              "    }\n",
              "</style>\n",
              "<table border=\"1\" class=\"dataframe\">\n",
              "  <thead>\n",
              "    <tr style=\"text-align: right;\">\n",
              "      <th></th>\n",
              "      <th>neutral_venue</th>\n",
              "      <th>toss_decision</th>\n",
              "      <th>result</th>\n",
              "      <th>umpire2</th>\n",
              "      <th>season</th>\n",
              "    </tr>\n",
              "  </thead>\n",
              "  <tbody>\n",
              "    <tr>\n",
              "      <th>803</th>\n",
              "      <td>0</td>\n",
              "      <td>1</td>\n",
              "      <td>0</td>\n",
              "      <td>31</td>\n",
              "      <td>2020</td>\n",
              "    </tr>\n",
              "    <tr>\n",
              "      <th>500</th>\n",
              "      <td>0</td>\n",
              "      <td>0</td>\n",
              "      <td>1</td>\n",
              "      <td>14</td>\n",
              "      <td>2015</td>\n",
              "    </tr>\n",
              "    <tr>\n",
              "      <th>463</th>\n",
              "      <td>0</td>\n",
              "      <td>1</td>\n",
              "      <td>1</td>\n",
              "      <td>10</td>\n",
              "      <td>2015</td>\n",
              "    </tr>\n",
              "    <tr>\n",
              "      <th>732</th>\n",
              "      <td>0</td>\n",
              "      <td>1</td>\n",
              "      <td>1</td>\n",
              "      <td>9</td>\n",
              "      <td>2019</td>\n",
              "    </tr>\n",
              "    <tr>\n",
              "      <th>451</th>\n",
              "      <td>0</td>\n",
              "      <td>1</td>\n",
              "      <td>1</td>\n",
              "      <td>7</td>\n",
              "      <td>2014</td>\n",
              "    </tr>\n",
              "    <tr>\n",
              "      <th>...</th>\n",
              "      <td>...</td>\n",
              "      <td>...</td>\n",
              "      <td>...</td>\n",
              "      <td>...</td>\n",
              "      <td>...</td>\n",
              "    </tr>\n",
              "    <tr>\n",
              "      <th>196</th>\n",
              "      <td>0</td>\n",
              "      <td>1</td>\n",
              "      <td>0</td>\n",
              "      <td>27</td>\n",
              "      <td>2011</td>\n",
              "    </tr>\n",
              "    <tr>\n",
              "      <th>604</th>\n",
              "      <td>0</td>\n",
              "      <td>1</td>\n",
              "      <td>0</td>\n",
              "      <td>34</td>\n",
              "      <td>2017</td>\n",
              "    </tr>\n",
              "    <tr>\n",
              "      <th>31</th>\n",
              "      <td>0</td>\n",
              "      <td>1</td>\n",
              "      <td>0</td>\n",
              "      <td>6</td>\n",
              "      <td>2008</td>\n",
              "    </tr>\n",
              "    <tr>\n",
              "      <th>624</th>\n",
              "      <td>0</td>\n",
              "      <td>1</td>\n",
              "      <td>0</td>\n",
              "      <td>34</td>\n",
              "      <td>2017</td>\n",
              "    </tr>\n",
              "    <tr>\n",
              "      <th>329</th>\n",
              "      <td>0</td>\n",
              "      <td>1</td>\n",
              "      <td>0</td>\n",
              "      <td>33</td>\n",
              "      <td>2013</td>\n",
              "    </tr>\n",
              "  </tbody>\n",
              "</table>\n",
              "<p>158 rows × 5 columns</p>\n",
              "</div>\n",
              "      <button class=\"colab-df-convert\" onclick=\"convertToInteractive('df-85e6dbc5-397d-4198-a225-ae823ee2e7e5')\"\n",
              "              title=\"Convert this dataframe to an interactive table.\"\n",
              "              style=\"display:none;\">\n",
              "        \n",
              "  <svg xmlns=\"http://www.w3.org/2000/svg\" height=\"24px\"viewBox=\"0 0 24 24\"\n",
              "       width=\"24px\">\n",
              "    <path d=\"M0 0h24v24H0V0z\" fill=\"none\"/>\n",
              "    <path d=\"M18.56 5.44l.94 2.06.94-2.06 2.06-.94-2.06-.94-.94-2.06-.94 2.06-2.06.94zm-11 1L8.5 8.5l.94-2.06 2.06-.94-2.06-.94L8.5 2.5l-.94 2.06-2.06.94zm10 10l.94 2.06.94-2.06 2.06-.94-2.06-.94-.94-2.06-.94 2.06-2.06.94z\"/><path d=\"M17.41 7.96l-1.37-1.37c-.4-.4-.92-.59-1.43-.59-.52 0-1.04.2-1.43.59L10.3 9.45l-7.72 7.72c-.78.78-.78 2.05 0 2.83L4 21.41c.39.39.9.59 1.41.59.51 0 1.02-.2 1.41-.59l7.78-7.78 2.81-2.81c.8-.78.8-2.07 0-2.86zM5.41 20L4 18.59l7.72-7.72 1.47 1.35L5.41 20z\"/>\n",
              "  </svg>\n",
              "      </button>\n",
              "      \n",
              "  <style>\n",
              "    .colab-df-container {\n",
              "      display:flex;\n",
              "      flex-wrap:wrap;\n",
              "      gap: 12px;\n",
              "    }\n",
              "\n",
              "    .colab-df-convert {\n",
              "      background-color: #E8F0FE;\n",
              "      border: none;\n",
              "      border-radius: 50%;\n",
              "      cursor: pointer;\n",
              "      display: none;\n",
              "      fill: #1967D2;\n",
              "      height: 32px;\n",
              "      padding: 0 0 0 0;\n",
              "      width: 32px;\n",
              "    }\n",
              "\n",
              "    .colab-df-convert:hover {\n",
              "      background-color: #E2EBFA;\n",
              "      box-shadow: 0px 1px 2px rgba(60, 64, 67, 0.3), 0px 1px 3px 1px rgba(60, 64, 67, 0.15);\n",
              "      fill: #174EA6;\n",
              "    }\n",
              "\n",
              "    [theme=dark] .colab-df-convert {\n",
              "      background-color: #3B4455;\n",
              "      fill: #D2E3FC;\n",
              "    }\n",
              "\n",
              "    [theme=dark] .colab-df-convert:hover {\n",
              "      background-color: #434B5C;\n",
              "      box-shadow: 0px 1px 3px 1px rgba(0, 0, 0, 0.15);\n",
              "      filter: drop-shadow(0px 1px 2px rgba(0, 0, 0, 0.3));\n",
              "      fill: #FFFFFF;\n",
              "    }\n",
              "  </style>\n",
              "\n",
              "      <script>\n",
              "        const buttonEl =\n",
              "          document.querySelector('#df-85e6dbc5-397d-4198-a225-ae823ee2e7e5 button.colab-df-convert');\n",
              "        buttonEl.style.display =\n",
              "          google.colab.kernel.accessAllowed ? 'block' : 'none';\n",
              "\n",
              "        async function convertToInteractive(key) {\n",
              "          const element = document.querySelector('#df-85e6dbc5-397d-4198-a225-ae823ee2e7e5');\n",
              "          const dataTable =\n",
              "            await google.colab.kernel.invokeFunction('convertToInteractive',\n",
              "                                                     [key], {});\n",
              "          if (!dataTable) return;\n",
              "\n",
              "          const docLinkHtml = 'Like what you see? Visit the ' +\n",
              "            '<a target=\"_blank\" href=https://colab.research.google.com/notebooks/data_table.ipynb>data table notebook</a>'\n",
              "            + ' to learn more about interactive tables.';\n",
              "          element.innerHTML = '';\n",
              "          dataTable['output_type'] = 'display_data';\n",
              "          await google.colab.output.renderOutput(dataTable, element);\n",
              "          const docLink = document.createElement('div');\n",
              "          docLink.innerHTML = docLinkHtml;\n",
              "          element.appendChild(docLink);\n",
              "        }\n",
              "      </script>\n",
              "    </div>\n",
              "  </div>\n",
              "  "
            ],
            "text/plain": [
              "     neutral_venue  toss_decision  result  umpire2  season\n",
              "803              0              1       0       31    2020\n",
              "500              0              0       1       14    2015\n",
              "463              0              1       1       10    2015\n",
              "732              0              1       1        9    2019\n",
              "451              0              1       1        7    2014\n",
              "..             ...            ...     ...      ...     ...\n",
              "196              0              1       0       27    2011\n",
              "604              0              1       0       34    2017\n",
              "31               0              1       0        6    2008\n",
              "624              0              1       0       34    2017\n",
              "329              0              1       0       33    2013\n",
              "\n",
              "[158 rows x 5 columns]"
            ]
          },
          "metadata": {},
          "execution_count": 69
        }
      ]
    },
    {
      "cell_type": "code",
      "source": [
        "matches['team1'].unique()"
      ],
      "metadata": {
        "colab": {
          "base_uri": "https://localhost:8080/"
        },
        "id": "t_o8oBqwo1VL",
        "outputId": "ba22ed0e-9f3d-4b0f-bbd6-f5ae639ef7f2"
      },
      "execution_count": 72,
      "outputs": [
        {
          "output_type": "execute_result",
          "data": {
            "text/plain": [
              "array([ 8,  5,  1,  6,  3, 10, 11,  0,  4,  7,  2,  9])"
            ]
          },
          "metadata": {},
          "execution_count": 72
        }
      ]
    },
    {
      "cell_type": "markdown",
      "source": [
        "**Model Selection & Training:**"
      ],
      "metadata": {
        "id": "iu77gJrus1Ez"
      }
    },
    {
      "cell_type": "code",
      "source": [
        "from sklearn.linear_model import LinearRegression\n",
        "model_lr= LinearRegression()"
      ],
      "metadata": {
        "id": "z_AuQzvYpB_p"
      },
      "execution_count": 73,
      "outputs": []
    },
    {
      "cell_type": "code",
      "source": [
        "model_lr.fit(x_train , y_train)"
      ],
      "metadata": {
        "colab": {
          "base_uri": "https://localhost:8080/"
        },
        "id": "1-Jt9GBTpB7b",
        "outputId": "b22c3924-7bde-4f8b-9118-48cec3a5cc65"
      },
      "execution_count": 74,
      "outputs": [
        {
          "output_type": "execute_result",
          "data": {
            "text/plain": [
              "LinearRegression()"
            ]
          },
          "metadata": {},
          "execution_count": 74
        }
      ]
    },
    {
      "cell_type": "markdown",
      "source": [
        "**Model Prediction**"
      ],
      "metadata": {
        "id": "cS6O6jLBtArj"
      }
    },
    {
      "cell_type": "code",
      "source": [
        "# getting predictions\n",
        "prediction = model_lr.predict(x_test)"
      ],
      "metadata": {
        "id": "UkJSTlvapBw1"
      },
      "execution_count": 75,
      "outputs": []
    },
    {
      "cell_type": "code",
      "source": [
        "# plotting our fit\n",
        "sns.distplot(y_test-prediction)"
      ],
      "metadata": {
        "colab": {
          "base_uri": "https://localhost:8080/",
          "height": 298
        },
        "id": "cwKtzPSXrTz6",
        "outputId": "ac278ffb-8767-4f2d-c3e5-eb1acaccf518"
      },
      "execution_count": 76,
      "outputs": [
        {
          "output_type": "execute_result",
          "data": {
            "text/plain": [
              "<matplotlib.axes._subplots.AxesSubplot at 0x7f4a3b532a90>"
            ]
          },
          "metadata": {},
          "execution_count": 76
        },
        {
          "output_type": "display_data",
          "data": {
            "image/png": "[encoded data removed]",
            "text/plain": [
              "<Figure size 432x288 with 1 Axes>"
            ]
          },
          "metadata": {
            "needs_background": "light"
          }
        }
      ]
    },
    {
      "cell_type": "code",
      "source": [
        "# checking for scores\n",
        "from sklearn import metrics\n",
        "\n",
        "# Mean Absolute Error\n",
        "\n",
        "print('MAE: ', metrics.mean_absolute_error(y_test , prediction))\n",
        "\n",
        "# Mean Squared Error\n",
        "\n",
        "print('MSE: ', metrics.mean_squared_error(y_test, prediction))\n",
        "\n",
        "# Root Mean Squared Error\n",
        "\n",
        "print('RMSE: ', np.sqrt(metrics.mean_squared_error(y_test, prediction)))"
      ],
      "metadata": {
        "id": "r1SH1S9evg4h",
        "colab": {
          "base_uri": "https://localhost:8080/"
        },
        "outputId": "175fc030-20b0-42db-aa62-e566c20e0e2e"
      },
      "execution_count": 77,
      "outputs": [
        {
          "output_type": "stream",
          "name": "stdout",
          "text": [
            "MAE:  3.1849376147749116\n",
            "MSE:  13.961558454348877\n",
            "RMSE:  3.736516888005309\n"
          ]
        }
      ]
    },
    {
      "cell_type": "markdown",
      "source": [
        "**CONCLUTION**\n",
        "\n",
        "* In this notebook, we built a Linear Regression models that could approximately predict a  Indian Premier League Prediction given some information about the population. \n",
        "* Looking the above models that could give us Some metric errors are,\n",
        "\n",
        "* MAE: 3.18\n",
        "* MSE: 13.96\n",
        "* RMSE:  3.736516888005309\n"
      ],
      "metadata": {
        "id": "XjQxTuNcr41v"
      }
    }
  ]
}